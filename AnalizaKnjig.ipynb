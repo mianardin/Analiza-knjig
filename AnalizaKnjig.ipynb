{
 "cells": [
  {
   "cell_type": "markdown",
   "metadata": {},
   "source": [
    "# Analiza knjig\n",
    "\n",
    "V tej projektni nalogi bom analizirala, trenutno najpopularnejše knjige. Podatke sem pridobila na internetni strani https://openlibrary.org/trending/daily?page=1"
   ]
  },
  {
   "cell_type": "code",
   "execution_count": 85,
   "metadata": {},
   "outputs": [],
   "source": [
    "import pandas as pd\n",
    "pd.set_option('display.max_rows', 10)\n",
    "%matplotlib inline\n",
    "import math"
   ]
  },
  {
   "cell_type": "code",
   "execution_count": 86,
   "metadata": {},
   "outputs": [],
   "source": [
    "knjige = pd.read_csv('knjige.csv', index_col='Naslov', sep=';')"
   ]
  },
  {
   "cell_type": "code",
   "execution_count": 87,
   "metadata": {},
   "outputs": [
    {
     "data": {
      "text/html": [
       "<div>\n",
       "<style scoped>\n",
       "    .dataframe tbody tr th:only-of-type {\n",
       "        vertical-align: middle;\n",
       "    }\n",
       "\n",
       "    .dataframe tbody tr th {\n",
       "        vertical-align: top;\n",
       "    }\n",
       "\n",
       "    .dataframe thead th {\n",
       "        text-align: right;\n",
       "    }\n",
       "</style>\n",
       "<table border=\"1\" class=\"dataframe\">\n",
       "  <thead>\n",
       "    <tr style=\"text-align: right;\">\n",
       "      <th></th>\n",
       "      <th>Avtor</th>\n",
       "      <th>Ocena</th>\n",
       "      <th>Stevilo strani</th>\n",
       "      <th>Leto</th>\n",
       "      <th>Opis</th>\n",
       "    </tr>\n",
       "    <tr>\n",
       "      <th>Naslov</th>\n",
       "      <th></th>\n",
       "      <th></th>\n",
       "      <th></th>\n",
       "      <th></th>\n",
       "      <th></th>\n",
       "    </tr>\n",
       "  </thead>\n",
       "  <tbody>\n",
       "    <tr>\n",
       "      <th>Um casamento arranjado</th>\n",
       "      <td>by Zana Kheiron</td>\n",
       "      <td>4,14</td>\n",
       "      <td>160</td>\n",
       "      <td>2019</td>\n",
       "      <td>Uma historia de uma familia falida q faz acord...</td>\n",
       "    </tr>\n",
       "    <tr>\n",
       "      <th>The 48 laws of power</th>\n",
       "      <td>by Robert Greene, Joost Elffers, William Richm...</td>\n",
       "      <td>4,21</td>\n",
       "      <td>not given</td>\n",
       "      <td>1998</td>\n",
       "      <td>Amoral, cunning, ruthless, and instructive, th...</td>\n",
       "    </tr>\n",
       "    <tr>\n",
       "      <th>Atomic Habits</th>\n",
       "      <td>by James Clear and Àlex Guàrdia Berdiell</td>\n",
       "      <td>4,25</td>\n",
       "      <td>320</td>\n",
       "      <td>2018</td>\n",
       "      <td>No matter your goals, Atomic Habits offers a p...</td>\n",
       "    </tr>\n",
       "    <tr>\n",
       "      <th>Rich dad, poor dad</th>\n",
       "      <td>by Robert T. Kiyosaki, Sharon L. Lechter, and ...</td>\n",
       "      <td>4,1</td>\n",
       "      <td>207</td>\n",
       "      <td>1998</td>\n",
       "      <td>Argues that a good education and a secure job ...</td>\n",
       "    </tr>\n",
       "    <tr>\n",
       "      <th>It Ends With Us</th>\n",
       "      <td>by Colleen Hoover</td>\n",
       "      <td>4,29</td>\n",
       "      <td>384</td>\n",
       "      <td>2016</td>\n",
       "      <td>Lily hasn’t always had it easy, but that’s nev...</td>\n",
       "    </tr>\n",
       "    <tr>\n",
       "      <th>...</th>\n",
       "      <td>...</td>\n",
       "      <td>...</td>\n",
       "      <td>...</td>\n",
       "      <td>...</td>\n",
       "      <td>...</td>\n",
       "    </tr>\n",
       "    <tr>\n",
       "      <th>Persuasion</th>\n",
       "      <td>by Jane Austen</td>\n",
       "      <td>4,18</td>\n",
       "      <td>328</td>\n",
       "      <td>1892</td>\n",
       "      <td>Persuasion tells the love story of Anne Elliot...</td>\n",
       "    </tr>\n",
       "    <tr>\n",
       "      <th>Dante</th>\n",
       "      <td>by Sadie Kincaid</td>\n",
       "      <td>5</td>\n",
       "      <td>348</td>\n",
       "      <td>2023</td>\n",
       "      <td>This edition doesn't have a description yet. C...</td>\n",
       "    </tr>\n",
       "    <tr>\n",
       "      <th>City of style</th>\n",
       "      <td>by Melissa Magsaysay</td>\n",
       "      <td>not given</td>\n",
       "      <td>178</td>\n",
       "      <td>2012</td>\n",
       "      <td>This edition doesn't have a description yet. C...</td>\n",
       "    </tr>\n",
       "    <tr>\n",
       "      <th>Learning Python</th>\n",
       "      <td>by Mark Lutz and David Ascher</td>\n",
       "      <td>4</td>\n",
       "      <td>366</td>\n",
       "      <td>1999</td>\n",
       "      <td>Describes the features of the Python 2.5 progr...</td>\n",
       "    </tr>\n",
       "    <tr>\n",
       "      <th>The Simple Path to Wealth</th>\n",
       "      <td>by JL Collins, JL Collins, and Peter Adeney</td>\n",
       "      <td>2,33</td>\n",
       "      <td>not given</td>\n",
       "      <td>2018</td>\n",
       "      <td>This edition doesn't have a description yet. C...</td>\n",
       "    </tr>\n",
       "  </tbody>\n",
       "</table>\n",
       "<p>160 rows × 5 columns</p>\n",
       "</div>"
      ],
      "text/plain": [
       "                                                                       Avtor  \\\n",
       "Naslov                                                                         \n",
       "Um casamento arranjado                                       by Zana Kheiron   \n",
       "The 48 laws of power       by Robert Greene, Joost Elffers, William Richm...   \n",
       "Atomic Habits                       by James Clear and Àlex Guàrdia Berdiell   \n",
       "Rich dad, poor dad         by Robert T. Kiyosaki, Sharon L. Lechter, and ...   \n",
       "It Ends With Us                                            by Colleen Hoover   \n",
       "...                                                                      ...   \n",
       "Persuasion                                                    by Jane Austen   \n",
       "Dante                                                       by Sadie Kincaid   \n",
       "City of style                                           by Melissa Magsaysay   \n",
       "Learning Python                                by Mark Lutz and David Ascher   \n",
       "The Simple Path to Wealth        by JL Collins, JL Collins, and Peter Adeney   \n",
       "\n",
       "                               Ocena Stevilo strani  Leto  \\\n",
       "Naslov                                                      \n",
       "Um casamento arranjado          4,14            160  2019   \n",
       "The 48 laws of power            4,21      not given  1998   \n",
       "Atomic Habits                   4,25            320  2018   \n",
       "Rich dad, poor dad               4,1            207  1998   \n",
       "It Ends With Us                 4,29            384  2016   \n",
       "...                              ...            ...   ...   \n",
       "Persuasion                      4,18            328  1892   \n",
       "Dante                              5            348  2023   \n",
       "City of style              not given            178  2012   \n",
       "Learning Python                    4            366  1999   \n",
       "The Simple Path to Wealth       2,33      not given  2018   \n",
       "\n",
       "                                                                        Opis  \n",
       "Naslov                                                                        \n",
       "Um casamento arranjado     Uma historia de uma familia falida q faz acord...  \n",
       "The 48 laws of power       Amoral, cunning, ruthless, and instructive, th...  \n",
       "Atomic Habits              No matter your goals, Atomic Habits offers a p...  \n",
       "Rich dad, poor dad         Argues that a good education and a secure job ...  \n",
       "It Ends With Us            Lily hasn’t always had it easy, but that’s nev...  \n",
       "...                                                                      ...  \n",
       "Persuasion                 Persuasion tells the love story of Anne Elliot...  \n",
       "Dante                      This edition doesn't have a description yet. C...  \n",
       "City of style              This edition doesn't have a description yet. C...  \n",
       "Learning Python            Describes the features of the Python 2.5 progr...  \n",
       "The Simple Path to Wealth  This edition doesn't have a description yet. C...  \n",
       "\n",
       "[160 rows x 5 columns]"
      ]
     },
     "execution_count": 87,
     "metadata": {},
     "output_type": "execute_result"
    }
   ],
   "source": [
    "knjige"
   ]
  },
  {
   "cell_type": "markdown",
   "metadata": {},
   "source": [
    "Najprej pogledamo katere knjige so najboljše in najslabše ocenjene."
   ]
  },
  {
   "cell_type": "code",
   "execution_count": 108,
   "metadata": {},
   "outputs": [
    {
     "data": {
      "text/html": [
       "<div>\n",
       "<style scoped>\n",
       "    .dataframe tbody tr th:only-of-type {\n",
       "        vertical-align: middle;\n",
       "    }\n",
       "\n",
       "    .dataframe tbody tr th {\n",
       "        vertical-align: top;\n",
       "    }\n",
       "\n",
       "    .dataframe thead th {\n",
       "        text-align: right;\n",
       "    }\n",
       "</style>\n",
       "<table border=\"1\" class=\"dataframe\">\n",
       "  <thead>\n",
       "    <tr style=\"text-align: right;\">\n",
       "      <th></th>\n",
       "      <th>Avtor</th>\n",
       "      <th>Ocena</th>\n",
       "      <th>Stevilo strani</th>\n",
       "      <th>Leto</th>\n",
       "      <th>Opis</th>\n",
       "    </tr>\n",
       "    <tr>\n",
       "      <th>Naslov</th>\n",
       "      <th></th>\n",
       "      <th></th>\n",
       "      <th></th>\n",
       "      <th></th>\n",
       "      <th></th>\n",
       "    </tr>\n",
       "  </thead>\n",
       "  <tbody>\n",
       "    <tr>\n",
       "      <th>Mastery</th>\n",
       "      <td>by Robert Greene</td>\n",
       "      <td>5.00</td>\n",
       "      <td>336.0</td>\n",
       "      <td>2012</td>\n",
       "      <td>Robert Greene, the \"modern Machiavelli\" debunk...</td>\n",
       "    </tr>\n",
       "    <tr>\n",
       "      <th>Dante</th>\n",
       "      <td>by Sadie Kincaid</td>\n",
       "      <td>5.00</td>\n",
       "      <td>348.0</td>\n",
       "      <td>2023</td>\n",
       "      <td>This edition doesn't have a description yet. C...</td>\n",
       "    </tr>\n",
       "    <tr>\n",
       "      <th>Jack and the beanstalk</th>\n",
       "      <td>by Ann Keay Beneduce</td>\n",
       "      <td>5.00</td>\n",
       "      <td>32.0</td>\n",
       "      <td>1999</td>\n",
       "      <td>A boy climbs to the top of a giant beanstalk, ...</td>\n",
       "    </tr>\n",
       "    <tr>\n",
       "      <th>Managing Oneself</th>\n",
       "      <td>by Peter F. Drucker</td>\n",
       "      <td>5.00</td>\n",
       "      <td>128.0</td>\n",
       "      <td>2017</td>\n",
       "      <td>This edition doesn't have a description yet. C...</td>\n",
       "    </tr>\n",
       "    <tr>\n",
       "      <th>Monday's not coming</th>\n",
       "      <td>by Tiffany D. Jackson</td>\n",
       "      <td>4.75</td>\n",
       "      <td>435.0</td>\n",
       "      <td>2018</td>\n",
       "      <td>When her friend Monday Charles goes missing an...</td>\n",
       "    </tr>\n",
       "    <tr>\n",
       "      <th>...</th>\n",
       "      <td>...</td>\n",
       "      <td>...</td>\n",
       "      <td>...</td>\n",
       "      <td>...</td>\n",
       "      <td>...</td>\n",
       "    </tr>\n",
       "    <tr>\n",
       "      <th>The Alchemist</th>\n",
       "      <td>by Paulo Coelho</td>\n",
       "      <td>3.66</td>\n",
       "      <td>167.0</td>\n",
       "      <td>1993</td>\n",
       "      <td>Read This Book For Free Now👉 https://t.co/NYg8...</td>\n",
       "    </tr>\n",
       "    <tr>\n",
       "      <th>Haunting Adeline</th>\n",
       "      <td>by H. D. Carlton</td>\n",
       "      <td>3.66</td>\n",
       "      <td>592.0</td>\n",
       "      <td>2023</td>\n",
       "      <td>The Manipulator</td>\n",
       "    </tr>\n",
       "    <tr>\n",
       "      <th>Angels &amp; Demons</th>\n",
       "      <td>by Dan Brown</td>\n",
       "      <td>3.58</td>\n",
       "      <td>620.0</td>\n",
       "      <td>2001</td>\n",
       "      <td>\"When a world renowned scientist is found brut...</td>\n",
       "    </tr>\n",
       "    <tr>\n",
       "      <th>Control Your Mind and Master Your Feelings</th>\n",
       "      <td>by Eric Robertson - undifferentiated</td>\n",
       "      <td>3.52</td>\n",
       "      <td>231.0</td>\n",
       "      <td>2019</td>\n",
       "      <td>This edition doesn't have a description yet. C...</td>\n",
       "    </tr>\n",
       "    <tr>\n",
       "      <th>Céntrate</th>\n",
       "      <td>by Cal Newport and María Mercedes Correa</td>\n",
       "      <td>1.00</td>\n",
       "      <td>320.0</td>\n",
       "      <td>2022</td>\n",
       "      <td>This edition doesn't have a description yet. C...</td>\n",
       "    </tr>\n",
       "  </tbody>\n",
       "</table>\n",
       "<p>115 rows × 5 columns</p>\n",
       "</div>"
      ],
      "text/plain": [
       "                                                                               Avtor  \\\n",
       "Naslov                                                                                 \n",
       "Mastery                                                             by Robert Greene   \n",
       "Dante                                                               by Sadie Kincaid   \n",
       "Jack and the beanstalk                                          by Ann Keay Beneduce   \n",
       "Managing Oneself                                                 by Peter F. Drucker   \n",
       "Monday's not coming                                            by Tiffany D. Jackson   \n",
       "...                                                                              ...   \n",
       "The Alchemist                                                        by Paulo Coelho   \n",
       "Haunting Adeline                                                    by H. D. Carlton   \n",
       "Angels & Demons                                                         by Dan Brown   \n",
       "Control Your Mind and Master Your Feelings      by Eric Robertson - undifferentiated   \n",
       "Céntrate                                    by Cal Newport and María Mercedes Correa   \n",
       "\n",
       "                                            Ocena  Stevilo strani  Leto  \\\n",
       "Naslov                                                                    \n",
       "Mastery                                      5.00           336.0  2012   \n",
       "Dante                                        5.00           348.0  2023   \n",
       "Jack and the beanstalk                       5.00            32.0  1999   \n",
       "Managing Oneself                             5.00           128.0  2017   \n",
       "Monday's not coming                          4.75           435.0  2018   \n",
       "...                                           ...             ...   ...   \n",
       "The Alchemist                                3.66           167.0  1993   \n",
       "Haunting Adeline                             3.66           592.0  2023   \n",
       "Angels & Demons                              3.58           620.0  2001   \n",
       "Control Your Mind and Master Your Feelings   3.52           231.0  2019   \n",
       "Céntrate                                     1.00           320.0  2022   \n",
       "\n",
       "                                                                                         Opis  \n",
       "Naslov                                                                                         \n",
       "Mastery                                     Robert Greene, the \"modern Machiavelli\" debunk...  \n",
       "Dante                                       This edition doesn't have a description yet. C...  \n",
       "Jack and the beanstalk                      A boy climbs to the top of a giant beanstalk, ...  \n",
       "Managing Oneself                            This edition doesn't have a description yet. C...  \n",
       "Monday's not coming                         When her friend Monday Charles goes missing an...  \n",
       "...                                                                                       ...  \n",
       "The Alchemist                               Read This Book For Free Now👉 https://t.co/NYg8...  \n",
       "Haunting Adeline                                                              The Manipulator  \n",
       "Angels & Demons                             \"When a world renowned scientist is found brut...  \n",
       "Control Your Mind and Master Your Feelings  This edition doesn't have a description yet. C...  \n",
       "Céntrate                                    This edition doesn't have a description yet. C...  \n",
       "\n",
       "[115 rows x 5 columns]"
      ]
     },
     "execution_count": 108,
     "metadata": {},
     "output_type": "execute_result"
    }
   ],
   "source": [
    "knjige_odstrani = knjige[knjige['Ocena'] != 'not given']\n",
    "ocenjene_knjige = knjige_odstrani.sort_values('Ocena', ascending=False)\n",
    "\n",
    "ocenjene_knjige"
   ]
  },
  {
   "cell_type": "code",
   "execution_count": 109,
   "metadata": {},
   "outputs": [
    {
     "data": {
      "text/plain": [
       "Naslov\n",
       "Mastery                                       5.00\n",
       "Dante                                         5.00\n",
       "Jack and the beanstalk                        5.00\n",
       "Managing Oneself                              5.00\n",
       "Monday's not coming                           4.75\n",
       "                                              ... \n",
       "The Alchemist                                 3.66\n",
       "Haunting Adeline                              3.66\n",
       "Angels & Demons                               3.58\n",
       "Control Your Mind and Master Your Feelings    3.52\n",
       "Céntrate                                      1.00\n",
       "Name: Ocena, Length: 115, dtype: float64"
      ]
     },
     "execution_count": 109,
     "metadata": {},
     "output_type": "execute_result"
    }
   ],
   "source": [
    "ocenjene_knjige['Ocena']"
   ]
  },
  {
   "cell_type": "markdown",
   "metadata": {},
   "source": [
    "Potem pogledamo katere knjige so najdalše in katere najkrajše."
   ]
  },
  {
   "cell_type": "code",
   "execution_count": 110,
   "metadata": {},
   "outputs": [
    {
     "data": {
      "text/plain": [
       "Naslov\n",
       "It                                1138.0\n",
       "Harry Potter és a Főnix Rendje     751.0\n",
       "The cruel prince                   750.0\n",
       "Steve Jobs                         693.0\n",
       "Steve Jobs                         693.0\n",
       "                                   ...  \n",
       "Corduroy                            32.0\n",
       "Jack and the beanstalk              32.0\n",
       "Guess how much I love you           30.0\n",
       "Guess how much I love you           30.0\n",
       "The Richest Man in Babylon           1.0\n",
       "Name: Stevilo strani, Length: 115, dtype: float64"
      ]
     },
     "execution_count": 110,
     "metadata": {},
     "output_type": "execute_result"
    }
   ],
   "source": [
    "knjige_odstrani = knjige[knjige['Stevilo strani'] != 'not given']\n",
    "strani_knjige = knjige_odstrani.sort_values('Stevilo strani', ascending=False)\n",
    "\n",
    "strani_knjige['Stevilo strani']"
   ]
  },
  {
   "cell_type": "markdown",
   "metadata": {},
   "source": [
    "Zanima nas ali število strani v knjigi, vpliva na njeno oceno."
   ]
  },
  {
   "cell_type": "code",
   "execution_count": 90,
   "metadata": {},
   "outputs": [],
   "source": [
    "knjige['Ocena'] = knjige['Ocena'].astype(str)\n",
    "\n",
    "knjige['Ocena'] = knjige['Ocena'].str.replace(',', '.').astype(float)\n",
    "\n",
    "knjige['Stevilo strani'] = pd.to_numeric(knjige['Stevilo strani'], errors='coerce')\n",
    "knjige.dropna(subset=['Stevilo strani'], inplace=True)"
   ]
  },
  {
   "cell_type": "code",
   "execution_count": 91,
   "metadata": {},
   "outputs": [
    {
     "data": {
      "text/plain": [
       "<Axes: xlabel='Stevilo strani', ylabel='Ocena'>"
      ]
     },
     "execution_count": 91,
     "metadata": {},
     "output_type": "execute_result"
    },
    {
     "data": {
      "image/png": "[encoded data removed]",
      "text/plain": [
       "<Figure size 640x480 with 1 Axes>"
      ]
     },
     "metadata": {},
     "output_type": "display_data"
    }
   ],
   "source": [
    "knjige.plot.scatter(x='Stevilo strani', y='Ocena')"
   ]
  },
  {
   "cell_type": "markdown",
   "metadata": {},
   "source": [
    "Očitno število strani v knjigi ne vpliva na njeno ocneo."
   ]
  },
  {
   "cell_type": "markdown",
   "metadata": {},
   "source": [
    "Sedaj pa nas zanima povprečna dolžina knjig čez leta"
   ]
  },
  {
   "cell_type": "code",
   "execution_count": 96,
   "metadata": {},
   "outputs": [
    {
     "data": {
      "text/plain": [
       "<Axes: xlabel='Leto', ylabel='povprečna dolžina knjige'>"
      ]
     },
     "execution_count": 96,
     "metadata": {},
     "output_type": "execute_result"
    },
    {
     "data": {
      "image/png": "[encoded data removed]",
      "text/plain": [
       "<Figure size 640x480 with 1 Axes>"
      ]
     },
     "metadata": {},
     "output_type": "display_data"
    }
   ],
   "source": [
    "knjige[['Leto', 'Stevilo strani']].groupby(by='Leto').mean().plot(ylabel=\"povprečna dolžina knjige\")"
   ]
  },
  {
   "cell_type": "markdown",
   "metadata": {},
   "source": [
    "Opazimo da se je čez leta povprečna dolžina knjig povečala."
   ]
  },
  {
   "cell_type": "markdown",
   "metadata": {},
   "source": [
    "Radi bi izvedli kakšna je povprečna ocena knjig, izdanih pred letom 2000."
   ]
  },
  {
   "cell_type": "code",
   "execution_count": 100,
   "metadata": {},
   "outputs": [
    {
     "data": {
      "text/plain": [
       "4.0823809523809516"
      ]
     },
     "execution_count": 100,
     "metadata": {},
     "output_type": "execute_result"
    }
   ],
   "source": [
    "knjige['Leto'] = pd.to_numeric(knjige['Leto'], errors='coerce').astype('Int64')\n",
    "knjige_pred_2000 = knjige[knjige['Leto'] < 2000]\n",
    "average_ocena_pred_2000 = knjige_pred_2000['Ocena'].mean()\n",
    "average_ocena_pred_2000"
   ]
  },
  {
   "cell_type": "markdown",
   "metadata": {},
   "source": [
    "Ter še povprečna ocena po letu 2000"
   ]
  },
  {
   "cell_type": "code",
   "execution_count": 101,
   "metadata": {},
   "outputs": [
    {
     "data": {
      "text/plain": [
       "4.135873015873015"
      ]
     },
     "execution_count": 101,
     "metadata": {},
     "output_type": "execute_result"
    }
   ],
   "source": [
    "knjige_po_2000 = knjige[knjige['Leto'] > 2000]\n",
    "average_ocena_po_2000 = knjige_po_2000['Ocena'].mean()\n",
    "average_ocena_po_2000"
   ]
  },
  {
   "cell_type": "markdown",
   "metadata": {},
   "source": [
    "Povprečna ocena knjig se je po letu 2000 malček povečala."
   ]
  },
  {
   "cell_type": "markdown",
   "metadata": {},
   "source": [
    "Zanima nas kakšna je korelacija med oceno, dolžino knjige in letom izdaje."
   ]
  },
  {
   "cell_type": "code",
   "execution_count": 102,
   "metadata": {},
   "outputs": [
    {
     "data": {
      "text/html": [
       "<div>\n",
       "<style scoped>\n",
       "    .dataframe tbody tr th:only-of-type {\n",
       "        vertical-align: middle;\n",
       "    }\n",
       "\n",
       "    .dataframe tbody tr th {\n",
       "        vertical-align: top;\n",
       "    }\n",
       "\n",
       "    .dataframe thead th {\n",
       "        text-align: right;\n",
       "    }\n",
       "</style>\n",
       "<table border=\"1\" class=\"dataframe\">\n",
       "  <thead>\n",
       "    <tr style=\"text-align: right;\">\n",
       "      <th></th>\n",
       "      <th>Ocena</th>\n",
       "      <th>Stevilo strani</th>\n",
       "      <th>Leto</th>\n",
       "    </tr>\n",
       "  </thead>\n",
       "  <tbody>\n",
       "    <tr>\n",
       "      <th>Ocena</th>\n",
       "      <td>1.000000</td>\n",
       "      <td>-0.058595</td>\n",
       "      <td>0.040653</td>\n",
       "    </tr>\n",
       "    <tr>\n",
       "      <th>Stevilo strani</th>\n",
       "      <td>-0.058595</td>\n",
       "      <td>1.000000</td>\n",
       "      <td>0.161877</td>\n",
       "    </tr>\n",
       "    <tr>\n",
       "      <th>Leto</th>\n",
       "      <td>0.040653</td>\n",
       "      <td>0.161877</td>\n",
       "      <td>1.000000</td>\n",
       "    </tr>\n",
       "  </tbody>\n",
       "</table>\n",
       "</div>"
      ],
      "text/plain": [
       "                   Ocena  Stevilo strani      Leto\n",
       "Ocena           1.000000       -0.058595  0.040653\n",
       "Stevilo strani -0.058595        1.000000  0.161877\n",
       "Leto            0.040653        0.161877  1.000000"
      ]
     },
     "execution_count": 102,
     "metadata": {},
     "output_type": "execute_result"
    }
   ],
   "source": [
    "knjige[['Ocena', 'Stevilo strani', 'Leto']].corr()"
   ]
  },
  {
   "cell_type": "markdown",
   "metadata": {},
   "source": [
    "Na podlagi vaših rezultatov lahko ugotovimo:\n",
    "\n",
    "Med oceno in številom strani obstaja zelo šibka negativna korelacija (-0.058595), kar pomeni, da večje število strani ni nujno povezano z nižjo oceno, in obratno.\n",
    "\n",
    "Med oceno in letom izdaje obstaja zelo šibka pozitivna korelacija (0.040653). To pomeni, da obstaja rahla tendenca, da so novejše knjige nekoliko bolje ocenjene, vendar je ta povezava zelo šibka.\n",
    "\n",
    "Med številom strani in letom izdaje obstaja šibka pozitivna korelacija (0.161877), kar pomeni, da so novejše knjige morda nekoliko daljše, vendar spet gre za precej šibko povezavo.\n",
    "\n",
    "Na podlagi teh rezultatov lahko sklepamo, da nobena od spremenljivk (ocena, število strani, leto izdaje) nima izrazitega vpliva na drugo spremenljivko."
   ]
  }
 ],
 "metadata": {
  "kernelspec": {
   "display_name": "Python 3",
   "language": "python",
   "name": "python3"
  },
  "language_info": {
   "codemirror_mode": {
    "name": "ipython",
    "version": 3
   },
   "file_extension": ".py",
   "mimetype": "text/x-python",
   "name": "python",
   "nbconvert_exporter": "python",
   "pygments_lexer": "ipython3",
   "version": "3.11.2"
  },
  "orig_nbformat": 4
 },
 "nbformat": 4,
 "nbformat_minor": 2
}
